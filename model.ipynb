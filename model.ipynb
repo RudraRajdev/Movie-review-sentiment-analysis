{
 "cells": [
  {
   "cell_type": "code",
   "execution_count": 14,
   "metadata": {},
   "outputs": [],
   "source": [
    "import numpy as np\n",
    "import tensorflow as tf\n",
    "from tensorflow.keras.datasets import imdb\n",
    "from tensorflow.keras.preprocessing import sequence\n",
    "from tensorflow.keras.models import Sequential\n",
    "from tensorflow.keras.layers import Embedding,SimpleRNN,Dense\n",
    "from tensorflow.keras.utils import pad_sequences"
   ]
  },
  {
   "cell_type": "code",
   "execution_count": 15,
   "metadata": {},
   "outputs": [
    {
     "name": "stdout",
     "output_type": "stream",
     "text": [
      "Training data shape:(25000,),Training labels shape:(25000,)\n",
      "Testing data shape:(25000,),Testing labels shape:(25000,)\n"
     ]
    }
   ],
   "source": [
    "#Load imdb dataset\n",
    "\n",
    "    #define voacbulary size\n",
    "\n",
    "max_feature=10000\n",
    "(X_train,y_train),(X_test,y_test)=imdb.load_data(num_words=max_feature)\n",
    "\n",
    "    #print dataset shape\n",
    "\n",
    "print(f'Training data shape:{X_train.shape},Training labels shape:{y_train.shape}')\n",
    "print(f'Testing data shape:{X_test.shape},Testing labels shape:{y_test.shape}')\n",
    "\n",
    "\n"
   ]
  },
  {
   "cell_type": "code",
   "execution_count": 16,
   "metadata": {},
   "outputs": [],
   "source": [
    "#Insepect a sample value and its label\n",
    "\n",
    "sample_review=X_train[0]\n",
    "sample_label=y_train[0]\n",
    "max_len=500\n",
    "\n",
    "X_train = pad_sequences(X_train, maxlen=max_len)\n",
    "X_test = pad_sequences(X_test, maxlen=max_len)"
   ]
  },
  {
   "cell_type": "code",
   "execution_count": 17,
   "metadata": {},
   "outputs": [],
   "source": [
    "#mapping of words index back to word\n",
    "\n",
    "word_index=imdb.get_word_index()\n",
    "reverse_word_index={value:key for key,value in word_index.items()}\n",
    "\n",
    "\n",
    "\n"
   ]
  },
  {
   "cell_type": "code",
   "execution_count": 18,
   "metadata": {},
   "outputs": [],
   "source": [
    "#Create Simple RNN model\n",
    "\n",
    "model=Sequential()\n",
    "model.add(Embedding(input_dim=max_feature,output_dim=128))\n",
    "model(np.zeros((1, max_len)))\n",
    "model.add(SimpleRNN(128,activation='relu'))\n",
    "model.add(Dense(1,activation='sigmoid'))\n",
    "model.compile(optimizer='adam',loss='binary_crossentropy',metrics=['accuracy'])"
   ]
  },
  {
   "cell_type": "code",
   "execution_count": 19,
   "metadata": {},
   "outputs": [],
   "source": [
    "#Create instanse early stopping\n",
    "\n",
    "from tensorflow.keras.callbacks import EarlyStopping\n",
    "\n",
    "ear_stop=EarlyStopping(monitor='val_loss',patience=5,restore_best_weights=True)\n"
   ]
  },
  {
   "cell_type": "code",
   "execution_count": 20,
   "metadata": {},
   "outputs": [
    {
     "name": "stdout",
     "output_type": "stream",
     "text": [
      "Epoch 1/10\n",
      "\u001b[1m625/625\u001b[0m \u001b[32m━━━━━━━━━━━━━━━━━━━━\u001b[0m\u001b[37m\u001b[0m \u001b[1m75s\u001b[0m 117ms/step - accuracy: 0.5872 - loss: 547.1747 - val_accuracy: 0.6954 - val_loss: 0.5890\n",
      "Epoch 2/10\n",
      "\u001b[1m625/625\u001b[0m \u001b[32m━━━━━━━━━━━━━━━━━━━━\u001b[0m\u001b[37m\u001b[0m \u001b[1m73s\u001b[0m 116ms/step - accuracy: 0.7909 - loss: 0.4838 - val_accuracy: 0.7878 - val_loss: 0.4556\n",
      "Epoch 3/10\n",
      "\u001b[1m625/625\u001b[0m \u001b[32m━━━━━━━━━━━━━━━━━━━━\u001b[0m\u001b[37m\u001b[0m \u001b[1m72s\u001b[0m 116ms/step - accuracy: 0.8598 - loss: 0.3340 - val_accuracy: 0.8048 - val_loss: 0.4418\n",
      "Epoch 4/10\n",
      "\u001b[1m625/625\u001b[0m \u001b[32m━━━━━━━━━━━━━━━━━━━━\u001b[0m\u001b[37m\u001b[0m \u001b[1m73s\u001b[0m 116ms/step - accuracy: 0.8680 - loss: 0.3011 - val_accuracy: 0.7958 - val_loss: 0.4742\n",
      "Epoch 5/10\n",
      "\u001b[1m625/625\u001b[0m \u001b[32m━━━━━━━━━━━━━━━━━━━━\u001b[0m\u001b[37m\u001b[0m \u001b[1m73s\u001b[0m 117ms/step - accuracy: 0.9046 - loss: 0.2401 - val_accuracy: 0.7944 - val_loss: 0.4861\n",
      "Epoch 6/10\n",
      "\u001b[1m625/625\u001b[0m \u001b[32m━━━━━━━━━━━━━━━━━━━━\u001b[0m\u001b[37m\u001b[0m \u001b[1m75s\u001b[0m 119ms/step - accuracy: 0.9331 - loss: 0.1754 - val_accuracy: 0.7422 - val_loss: 0.5934\n",
      "Epoch 7/10\n",
      "\u001b[1m625/625\u001b[0m \u001b[32m━━━━━━━━━━━━━━━━━━━━\u001b[0m\u001b[37m\u001b[0m \u001b[1m74s\u001b[0m 118ms/step - accuracy: 0.9413 - loss: 0.1545 - val_accuracy: 0.7880 - val_loss: 0.5591\n",
      "Epoch 8/10\n",
      "\u001b[1m625/625\u001b[0m \u001b[32m━━━━━━━━━━━━━━━━━━━━\u001b[0m\u001b[37m\u001b[0m \u001b[1m77s\u001b[0m 123ms/step - accuracy: 0.9496 - loss: 0.1379 - val_accuracy: 0.7934 - val_loss: 0.5760\n"
     ]
    }
   ],
   "source": [
    "# #Train model\n",
    "\n",
    "model_history=model.fit(X_train,y_train,validation_split=0.2,batch_size=32,epochs=10,callbacks=[ear_stop])"
   ]
  },
  {
   "cell_type": "code",
   "execution_count": 21,
   "metadata": {},
   "outputs": [
    {
     "name": "stderr",
     "output_type": "stream",
     "text": [
      "WARNING:absl:You are saving your model as an HDF5 file via `model.save()` or `keras.saving.save_model(model)`. This file format is considered legacy. We recommend using instead the native Keras format, e.g. `model.save('my_model.keras')` or `keras.saving.save_model(model, 'my_model.keras')`. \n"
     ]
    }
   ],
   "source": [
    "#Save model\n",
    "\n",
    "model.save('simple_rnn.h5')"
   ]
  }
 ],
 "metadata": {
  "kernelspec": {
   "display_name": "Python 3",
   "language": "python",
   "name": "python3"
  },
  "language_info": {
   "codemirror_mode": {
    "name": "ipython",
    "version": 3
   },
   "file_extension": ".py",
   "mimetype": "text/x-python",
   "name": "python",
   "nbconvert_exporter": "python",
   "pygments_lexer": "ipython3",
   "version": "3.12.4"
  }
 },
 "nbformat": 4,
 "nbformat_minor": 2
}
